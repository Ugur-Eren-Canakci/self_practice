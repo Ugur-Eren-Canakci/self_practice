{
 "cells": [
  {
   "cell_type": "code",
   "execution_count": 79,
   "id": "282d08e5-a083-4c02-83b4-c2383d179c80",
   "metadata": {},
   "outputs": [
    {
     "name": "stdout",
     "output_type": "stream",
     "text": [
      "['0', '0', '0', '0', '0', '0', '0', '|']\n",
      "['|', 'w', '|', 'w', 'w', 'w', 'w', '|']\n",
      "['|', 'w', '|', 'w', 'w', 'w', 'w', '|']\n",
      "['|', 'w', '|', 'w', 'w', 'w', 'w', '|']\n"
     ]
    },
    {
     "data": {
      "text/plain": [
       "15"
      ]
     },
     "execution_count": 79,
     "metadata": {},
     "output_type": "execute_result"
    }
   ],
   "source": [
    "#Given an array of N non-negative integers arr[] representing an elevation map where the width of each bar is 1, \n",
    "#compute how much water it can trap after rain.\n",
    "\n",
    "#set | to represent a brick, w for water, 0 for an empty cell.\n",
    "\n",
    "def fill_with_water(arr):\n",
    "\n",
    "    return_value = 0\n",
    "    for i in range(len(arr)):\n",
    "        #see if there's any bricks on the left and right of each empty cell. \n",
    "        #if so, fill the cell with water unless the cell is a brick\n",
    "        if arr[i] == \"0\" and (\"|\" in arr[:i]) and (\"|\" in arr[i+1:]):\n",
    "            arr[i] = \"w\"\n",
    "            return_value += 1\n",
    "\n",
    "    return(return_value)\n",
    "    \n",
    "def rainwater(arr):\n",
    "\n",
    "    #obtain the maximum height, i.e. the vertical limit\n",
    "    max_height = max(arr)\n",
    "    water_amount = 0\n",
    "    \n",
    "    #form a matrix that represents the cells \n",
    "    matrix = []\n",
    "    #\"create\" the walls\n",
    "    for i in arr:\n",
    "        #starting from the bottom, put bricks on top of each other until you reach the right height\n",
    "        wall = [\"0\" for x in range(max_height - i)] + [\"|\" for x in range(i)]\n",
    "        matrix.append(wall)\n",
    "    matrix_dummy = []\n",
    "    for i in range(max_height):\n",
    "        matrix_dummy.append([matrix[j][i] for j in range(len(arr))])\n",
    "    matrix = matrix_dummy[::-1]\n",
    "    #now, rows represent each height, starting from top.\n",
    "\n",
    "    #start filling from the bottom and go higher\n",
    "    row_to_check = 0\n",
    "    while row_to_check < max_height :\n",
    "\n",
    "        current_row = matrix[row_to_check]\n",
    "        water_amount += fill_with_water(current_row)\n",
    "        row_to_check += 1\n",
    "\n",
    "    for i in range(len(matrix)):\n",
    "        print(matrix[len(matrix) - i - 1])\n",
    "\n",
    "    return(water_amount)\n",
    "\n",
    "\n",
    "rainwater([3,0,3,0,0,0,0,4])"
   ]
  }
 ],
 "metadata": {
  "kernelspec": {
   "display_name": "Python 3 (ipykernel)",
   "language": "python",
   "name": "python3"
  },
  "language_info": {
   "codemirror_mode": {
    "name": "ipython",
    "version": 3
   },
   "file_extension": ".py",
   "mimetype": "text/x-python",
   "name": "python",
   "nbconvert_exporter": "python",
   "pygments_lexer": "ipython3",
   "version": "3.12.4"
  }
 },
 "nbformat": 4,
 "nbformat_minor": 5
}
