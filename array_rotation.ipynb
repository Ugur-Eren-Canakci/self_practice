{
 "cells": [
  {
   "cell_type": "code",
   "execution_count": 15,
   "id": "412fd3a3-60f4-4d84-9fee-b779ff250a09",
   "metadata": {},
   "outputs": [
    {
     "name": "stdout",
     "output_type": "stream",
     "text": [
      "[3, 4, 5, 6, 7, 1, 2] \n",
      "\n",
      "[4, 5, 3] \n",
      "\n"
     ]
    }
   ],
   "source": [
    "#Given an array of integers arr[] of size N and an integer d, the task is to \n",
    "#rotate the array elements to the left by d positions.\n",
    "\n",
    "#Input:  d = 2 , arr[] = {1, 2, 3, 4, 5, 6, 7}\n",
    "#Output: 3 4 5 6 7 1 2\n",
    "\n",
    "#Input:  d = 4, arr[] = {3, 4, 5},\n",
    "#Output: 4 5 3\n",
    "\n",
    "\n",
    "def array_rotate_1(arr,rota): #time complexity O(N), space complexity O(N)\n",
    "\n",
    "    #at each rotation, the leftmost element is put to the rightmost position\n",
    "\n",
    "    #number of rotations can be reduced by taking its remainder when divided by len(arr)\n",
    "    #for example, say there are 3 elements in an array and we are asked to rotate 25 times.\n",
    "    #after rotating the array for 3 times, we will obtain the original array again, and rotate 22 times.\n",
    "    #recursively, we will subtract as much len(arr) from rota and stop when remaining rota is between 0 and len(arr)-1,\n",
    "    #which is the act of obtaining the remainder of rota when divided by len(arr)\n",
    "\n",
    "    arr_return = [x for x in arr]\n",
    "    for i in range(rota % len(arr)):\n",
    "        leftmost = arr_return[0]\n",
    "        arr_return = arr_return[1:]\n",
    "        arr_return.append(leftmost)\n",
    "\n",
    "    return arr_return\n",
    "\n",
    "def array_rotate_2(arr,rota):\n",
    "    \n",
    "arr_1, d_1= [1, 2, 3, 4, 5, 6, 7], 2\n",
    "arr_2, d_2 = [3,4,5], 4\n",
    "print(array_rotate_1(arr_1, d_1),\"\\n\")\n",
    "print(array_rotate_1(arr_2, d_2),\"\\n\")\n"
   ]
  }
 ],
 "metadata": {
  "kernelspec": {
   "display_name": "Python 3 (ipykernel)",
   "language": "python",
   "name": "python3"
  },
  "language_info": {
   "codemirror_mode": {
    "name": "ipython",
    "version": 3
   },
   "file_extension": ".py",
   "mimetype": "text/x-python",
   "name": "python",
   "nbconvert_exporter": "python",
   "pygments_lexer": "ipython3",
   "version": "3.12.4"
  }
 },
 "nbformat": 4,
 "nbformat_minor": 5
}
